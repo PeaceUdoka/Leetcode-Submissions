{
 "cells": [
  {
   "cell_type": "markdown",
   "metadata": {},
   "source": [
    "# Height Checker\n",
    "### Easy\n",
    "\n",
    "A school is trying to take an annual photo of all the students. The students are asked to stand in a single file line in non-decreasing order by height. Let this ordering be represented by the integer array expected where expected[i] is the expected height of the ith student in line.\n",
    "\n",
    "You are given an integer array heights representing the current order that the students are standing in. Each heights[i] is the height of the ith student in line (0-indexed).\n",
    "\n",
    "Return the number of indices where heights[i] != expected[i].\n",
    "\n",
    " \n",
    "\n",
    "### Example 1:\n",
    "\n",
    "Input: heights = [1,1,4,2,1,3]\n",
    "Output: 3\n",
    "Explanation: \n",
    "heights:  [1,1,4,2,1,3]\n",
    "expected: [1,1,1,2,3,4]\n",
    "Indices 2, 4, and 5 do not match.\n",
    "\n",
    "### Example 2:\n",
    "\n",
    "Input: heights = [5,1,2,3,4]\n",
    "Output: 5\n",
    "Explanation:\n",
    "heights:  [5,1,2,3,4]\n",
    "expected: [1,2,3,4,5]\n",
    "All indices do not match.\n",
    "\n",
    "### Example 3:\n",
    "\n",
    "Input: heights = [1,2,3,4,5]\n",
    "Output: 0\n",
    "Explanation:\n",
    "heights:  [1,2,3,4,5]\n",
    "expected: [1,2,3,4,5]\n",
    "All indices match.\n",
    " \n",
    "\n",
    "Constraints:\n",
    "\n",
    "1 <= heights.length <= 100\n",
    "1 <= heights[i] <= 100"
   ]
  },
  {
   "cell_type": "code",
   "execution_count": 12,
   "metadata": {},
   "outputs": [],
   "source": [
    "def heightChecker(heights):\n",
    "    \"\"\"\n",
    "    :type heights: List[int]\n",
    "    :rtype: int\n",
    "    \"\"\"\n",
    "    count = 0\n",
    "    heights_copy = heights[:]\n",
    "    n = len(heights)\n",
    "    for i in range(n-1):\n",
    "        for j in range(n-i-1):\n",
    "            if heights[j] > heights[j+1]:\n",
    "                 heights[j], heights[j+1] = heights[j+1], heights[j]\n",
    "\n",
    "    for i in range(n):\n",
    "        if heights[i] != heights_copy[i]:\n",
    "            count = count+1\n",
    "    return count\n"
   ]
  },
  {
   "cell_type": "code",
   "execution_count": 13,
   "metadata": {},
   "outputs": [
    {
     "data": {
      "text/plain": [
       "3"
      ]
     },
     "execution_count": 13,
     "metadata": {},
     "output_type": "execute_result"
    }
   ],
   "source": [
    "heights = [1,1,4,2,1,3]\n",
    "heightChecker(heights)"
   ]
  }
 ],
 "metadata": {
  "kernelspec": {
   "display_name": "Python 3",
   "language": "python",
   "name": "python3"
  },
  "language_info": {
   "codemirror_mode": {
    "name": "ipython",
    "version": 3
   },
   "file_extension": ".py",
   "mimetype": "text/x-python",
   "name": "python",
   "nbconvert_exporter": "python",
   "pygments_lexer": "ipython3",
   "version": "3.7.0"
  }
 },
 "nbformat": 4,
 "nbformat_minor": 2
}
